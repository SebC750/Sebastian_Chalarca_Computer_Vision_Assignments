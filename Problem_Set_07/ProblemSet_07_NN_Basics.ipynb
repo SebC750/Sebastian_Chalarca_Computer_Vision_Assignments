{
  "nbformat": 4,
  "nbformat_minor": 0,
  "metadata": {
    "colab": {
      "provenance": [],
      "include_colab_link": true
    },
    "kernelspec": {
      "name": "python3",
      "display_name": "Python 3"
    }
  },
  "cells": [
    {
      "cell_type": "markdown",
      "metadata": {
        "id": "view-in-github",
        "colab_type": "text"
      },
      "source": [
        "<a href=\"https://colab.research.google.com/github/SebC750/Sebastian_Chalarca_Computer_Vision_Assignments/blob/main/ProblemSet_07_NN_Basics.ipynb\" target=\"_parent\"><img src=\"https://colab.research.google.com/assets/colab-badge.svg\" alt=\"Open In Colab\"/></a>"
      ]
    },
    {
      "cell_type": "markdown",
      "metadata": {
        "id": "SoKGHVI2gK_E"
      },
      "source": [
        "This notebook is part the of Dr. Christoforos Christoforou's course materials. You may not, nor may you knowingly allow others to reproduce or distribute lecture notes, course materials or any of their derivatives without the instructor's express written consent."
      ]
    },
    {
      "cell_type": "markdown",
      "metadata": {
        "id": "FQ8TpYhQ3_V_"
      },
      "source": [
        "# Problem Set 07 - Basics of Neural Network Basics\n",
        "\n",
        "**Professor:** Dr. Christoforos Christoforou\n",
        "\n",
        "In this problem set, you will practice building a basic neural network based on the theory covered and in course and using TensorFlow, an open-source library to help you develop and train ML models. For this problem set, you will need the following library references, which are pre-installed with the colab environment.\n"
      ]
    },
    {
      "cell_type": "code",
      "metadata": {
        "id": "TjBbvzidgTcG"
      },
      "source": [
        "import tensorflow.keras\n",
        "from tensorflow.keras.callbacks import EarlyStopping\n",
        "from tensorflow.keras.layers import Dense, Dropout\n",
        "from tensorflow.keras.datasets import mnist\n",
        "from tensorflow.keras import backend\n",
        "\n",
        "%matplotlib inline\n",
        "import matplotlib.pyplot as plt\n",
        "import numpy as np\n",
        "import pandas as pd"
      ],
      "execution_count": null,
      "outputs": []
    },
    {
      "cell_type": "markdown",
      "metadata": {
        "id": "oJ8yWvbS5RF1"
      },
      "source": [
        "## Exercise 1: Load and proprocess the dataset.\n",
        "\n",
        "For this example, you will use the MNIST dataset, one of the benchmark image dataset. The dataset comprise images of handwritten digits. It is available in the `tensorflow.keras.dataset` module and can be loaded using the `mnist.load_data()` method. The code below showcases how to load the MINST dataset\n",
        "\n",
        "```python\n",
        "# Load the image dataset\n",
        "(X_train, y_train), (X_test, y_test) = mnist.load_data()\n",
        "```\n",
        "The `X_train` has dimensions (60000, 28,28) representing 60000 images, each 28 by 28 pixels. The first axis corresponds the #images and the rest of the dimensions specify the color intensity for each pixel. Similarly, `X_test` has dimension (10000, 28,28) representing 10000 observations.\n",
        "\n",
        "The `y_train` has dimensions (60000,) with values 0 to 9, representing each of the digit classes.\n",
        "\n",
        "**Task 1.1** In the cell below load the MNIST Dataset.\n"
      ]
    },
    {
      "cell_type": "markdown",
      "source": [],
      "metadata": {
        "id": "wyx8JOgS8MNz"
      }
    },
    {
      "cell_type": "code",
      "metadata": {
        "id": "RZBcDWg6gn5r"
      },
      "source": [
        "# Load the mist dataset\n",
        "(X_train, y_train), (X_test, y_test) = mnist.load_data()\n"
      ],
      "execution_count": null,
      "outputs": []
    },
    {
      "cell_type": "markdown",
      "metadata": {
        "id": "xPJImdNQ7B3v"
      },
      "source": [
        "Once you load the dataset, you need to convert the images into a format appropriate for the neural network to operate on them. The pre-processing steps are as follow:\n",
        "\n",
        "* Reshape data array to `channels_last` (i.e. (obs,row,cols,color)) or `channel_first` (i.e. (obs,color,row,cols)) format; depending on what format is supported by the library. Since, tensorflow expects the input vector be be given in a `channel_last` format we need to convert each image to a (obs, row, cols, color) format.\n",
        "* Convert data array to float32.\n",
        "* Normalize data array (i.e. divide by 255)\n",
        "* Convert labels to categorical variables (i.e. one-hot encoding) using the tensorflow.keras.utils.to_categorical(y_train).\n",
        "\n",
        "The code below showcases one why this can be done in python, for a `ndarray` `X_train` , and how to encode a label vector to one-hot encoding.\n",
        "\n",
        "```python\n",
        "# Get the shape of the ndarray\n",
        "(Nobs_train, n_rows, n_cols) = X_train.shape\n",
        "\n",
        "# Reshpep array to (obs,row,cols,color); convert to float and normalize\n",
        "X_train = X_train.reshape(Nobs_train,n_rows,n_cols,1).astype('float32')/255\n",
        "\n",
        "# Convert y_train labels to one-hot encoding\n",
        "y_train = tensorflow.keras.utils.to_categorical(y_train)\n",
        "```\n",
        "**Task 1.2** In the cell below, standardize the X_train, X_test, y_train and y_test, by applying the necessary preprocessing steps outlined above."
      ]
    },
    {
      "cell_type": "code",
      "metadata": {
        "id": "vDR9Xp-w_flG"
      },
      "source": [
        "# Implement task 1.2 in this cell\n",
        "\n",
        "# Get the shape of the ndarray\n",
        "(Nobs_train, n_rows, n_cols) = X_train.shape\n",
        "\n",
        "# Reshpep array to (obs,row,cols,color); convert to float and normalize\n",
        "X_train = X_train.reshape(Nobs_train,n_rows,n_cols,1).astype('float32')/255\n",
        "X_train = X_train.astype('float32') / 255\n",
        "X_test = X_test.astype('float32') / 255\n",
        "\n",
        "# Convert y_train to one-hot encoding\n",
        "y_train = tensorflow.keras.utils.to_categorical(y_train)\n",
        "y_test = tensorflow.keras.utils.to_categorical(y_test)"
      ],
      "execution_count": null,
      "outputs": []
    },
    {
      "cell_type": "markdown",
      "metadata": {
        "id": "aBfBHmUl_iU8"
      },
      "source": [
        "## Exercise 2:Building a Neural Network using high-level Keras API\n",
        "\n",
        "In this introductory example, we will build a neural network using high-level Keras API. For that, you will need several objects provided by the API; which include the `Sequential` model which is defined under the module `tensorflow.keras.models`, and two computational layers, namely the `Flatten` layer and the `Dense` layer, which are defined under the `tensorflow.keras.layers module`. These libraries have been imported at the beginning of the notebook, but to make this section self-contained, we re-import them in the cell below."
      ]
    },
    {
      "cell_type": "code",
      "metadata": {
        "id": "L4aGWJ6yADw5"
      },
      "source": [
        "import tensorflow.keras\n",
        "from tensorflow.keras.models import Sequential\n",
        "from tensorflow.keras.layers import Dense, Flatten\n",
        "import time"
      ],
      "execution_count": null,
      "outputs": []
    },
    {
      "cell_type": "markdown",
      "metadata": {
        "id": "St9DZ5TUAJaJ"
      },
      "source": [
        "**Defining the neural network architecture**\n",
        "We can define the neural network architecture using the keras API. First, we define a general `Sequential` model and then `add` to it the various computational layer. For our example, we first need to add a `Flatten` layer to convert the 2D image into a 1D vector, and then `add` two dense layers, one layer has 256 nodes; and the second one - which serves as an output layer- has 10 nodes. Each element in the output layer represents one of the categories we are trying to classify (i.e. digits 0 to 9) and its value correspond to the probability the input belong to each class. We can define this architecture using the `Keras API` as follows:\n",
        "\n",
        "```python\n",
        "model = Sequential()\n",
        "model.add(Flatten()) # add a layer to convert the 2D image to a 1D vector\n",
        "model.add(Dense(256,activation='relu'))\n",
        "model.add(Dense(10, activation='softmax'))\n",
        "```\n",
        "Notice, the first `Dense` layer uses the `relu` activation function, and the output `Dense` layer uses the `softmax` activation function. Recall, the softmax normalizes the output vectors so that all entries are positive and sum up to one; thus the resulting output can be thought of as a probability over the categories.\n",
        "\n",
        "**Task 2.1** In the cell below, define the neural network architecture specified in the section above."
      ]
    },
    {
      "cell_type": "code",
      "metadata": {
        "id": "jDZk75uHCcVw"
      },
      "source": [
        "# Implement task 2.1\n",
        "model = Sequential()\n",
        "model.add(Flatten()) # add a layer to convert the 2D image to a 1D vector\n",
        "model.add(Dense(256,activation='relu'))\n",
        "model.add(Dense(10, activation='softmax'))"
      ],
      "execution_count": null,
      "outputs": []
    },
    {
      "cell_type": "markdown",
      "metadata": {
        "id": "rQzhXhLaChGo"
      },
      "source": [
        "**Compile the Neural Network Architecture**\n",
        "Once we define the model, we need to compile it using the `model.compile` method of the API. As part of the compiling, we define can define the following parameters (among others):.\n",
        "\n",
        "* the **loss** function* to use for training the model.\n",
        "* the **optimizer** method to use in optimizing and, typically, we use the `adam` optimizer;\n",
        "* any *metrics* we want to track while fitting the model (i.e. accuracy)\n",
        "\n",
        "In this example, since we are dealing with a multi-class classification, we can set the loss function to be `categorical_crossentropy`. For your reference, the categorical cross entropy (CCE) is calculated as:\n",
        "\n",
        "$$\n",
        "CCE = -\\sum_{c\\in C} y_c log(\\sigma(\\hat{y})_c)\n",
        "$$\n",
        "\n",
        "where $y_c$ is the ground truth value of the c-th element in the output vector (i.e. c-th class), $\\hat{y}_c$ is the c-th element in the predicted output vector, and $\\sigma(.)$ is the `softmax` method. Notice, that the categorical cross entropy implementation in TensorFlow expects the label vector $y$ to be given as a `one-hot-encoding` form.\n",
        "\n",
        "The code below illustrates how to apply the `model.compile` method, to compile the network architecture\n",
        "\n",
        "```python\n",
        "model.compile(loss='categorical_crossentropy', optimizer='adam',metrics=['accuracy'])\n",
        "\n",
        "```\n",
        "\n",
        "**Task 2.2:** Compile the Neural Network Architecture you defined in task 2.1\n",
        "\n"
      ]
    },
    {
      "cell_type": "code",
      "metadata": {
        "id": "tOmFLTE6E2hC"
      },
      "source": [
        "# Use this cell to implement task 2.2\n",
        "model.compile(loss='categorical_crossentropy',\n",
        "              optimizer='adam',\n",
        "              metrics=['accuracy'])"
      ],
      "execution_count": null,
      "outputs": []
    },
    {
      "cell_type": "markdown",
      "metadata": {
        "id": "WM_ddqbbE50P"
      },
      "source": [
        "**Training the model**\n",
        "\n",
        "Once we defined and compiled our model, we can train it by calling the `model.fit` method of the API. The `model.fit` expects as input  the training set and a number of fitting configuration parameters. Two commonly used parameters are that of `batch_size` and `epochs`. The code below illustrates how to fit a model.\n",
        "\n",
        "```python\n",
        "  # Batch size: refers to the size of data we use in a single pass;\n",
        "  batch_size = 128\n",
        "\n",
        "  # Epochs, the number of times to iterate over the dataset  \n",
        "  epochs = 15\n",
        "\n",
        "  model.fit(X_train,y_train, batch_size=batch_size, epochs = epochs,validation_data=(X_test,y_test))\n",
        "```\n",
        "**Task 2.3** Train the model by calling the `model.fit` method\n"
      ]
    },
    {
      "cell_type": "code",
      "metadata": {
        "id": "XN8k3VMhF3g1",
        "colab": {
          "base_uri": "https://localhost:8080/"
        },
        "outputId": "8c8b759b-c4d5-4fd3-9c52-69e464d36888"
      },
      "source": [
        "# Use this cell in implement task 2.3\n",
        " # Batch size: refers to the size of data we use in a single pass;\n",
        "batch_size = 128\n",
        "\n",
        "  # Epochs, the number of times to iterate over the dataset\n",
        "epochs = 15\n",
        "print(X_train.shape)\n",
        "print(X_test.shape)\n",
        "print(y_train.shape)\n",
        "print(y_test.shape)\n",
        "\n",
        "model.fit(X_train, y_train, batch_size=batch_size, epochs=epochs, validation_data=(X_test, y_test))"
      ],
      "execution_count": null,
      "outputs": [
        {
          "output_type": "stream",
          "name": "stdout",
          "text": [
            "(60000, 28, 28, 1)\n",
            "(10000, 28, 28)\n",
            "(60000, 10)\n",
            "(10000, 10)\n",
            "Epoch 1/15\n",
            "469/469 [==============================] - 15s 31ms/step - loss: 1.5805 - accuracy: 0.6502 - val_loss: 33.7591 - val_accuracy: 0.7228\n",
            "Epoch 2/15\n",
            "469/469 [==============================] - 13s 28ms/step - loss: 0.6719 - accuracy: 0.8411 - val_loss: 41.0193 - val_accuracy: 0.7822\n",
            "Epoch 3/15\n",
            "469/469 [==============================] - 13s 28ms/step - loss: 0.4702 - accuracy: 0.8787 - val_loss: 48.1676 - val_accuracy: 0.7909\n",
            "Epoch 4/15\n",
            "469/469 [==============================] - 14s 30ms/step - loss: 0.3953 - accuracy: 0.8930 - val_loss: 50.0874 - val_accuracy: 0.8040\n",
            "Epoch 5/15\n",
            "469/469 [==============================] - 13s 29ms/step - loss: 0.3567 - accuracy: 0.9003 - val_loss: 48.2379 - val_accuracy: 0.8202\n",
            "Epoch 6/15\n",
            "469/469 [==============================] - 14s 29ms/step - loss: 0.3327 - accuracy: 0.9064 - val_loss: 47.1073 - val_accuracy: 0.8291\n",
            "Epoch 7/15\n",
            "469/469 [==============================] - 14s 30ms/step - loss: 0.3159 - accuracy: 0.9092 - val_loss: 44.7678 - val_accuracy: 0.8385\n",
            "Epoch 8/15\n",
            "469/469 [==============================] - 13s 28ms/step - loss: 0.3032 - accuracy: 0.9134 - val_loss: 44.9310 - val_accuracy: 0.8422\n",
            "Epoch 9/15\n",
            "469/469 [==============================] - 14s 29ms/step - loss: 0.2925 - accuracy: 0.9160 - val_loss: 42.2341 - val_accuracy: 0.8533\n",
            "Epoch 10/15\n",
            "469/469 [==============================] - 14s 30ms/step - loss: 0.2834 - accuracy: 0.9186 - val_loss: 41.9923 - val_accuracy: 0.8576\n",
            "Epoch 11/15\n",
            "469/469 [==============================] - 14s 29ms/step - loss: 0.2753 - accuracy: 0.9208 - val_loss: 41.4446 - val_accuracy: 0.8606\n",
            "Epoch 12/15\n",
            "469/469 [==============================] - 14s 29ms/step - loss: 0.2676 - accuracy: 0.9235 - val_loss: 40.0970 - val_accuracy: 0.8659\n",
            "Epoch 13/15\n",
            "469/469 [==============================] - 13s 28ms/step - loss: 0.2606 - accuracy: 0.9249 - val_loss: 38.9705 - val_accuracy: 0.8714\n",
            "Epoch 14/15\n",
            "469/469 [==============================] - 14s 29ms/step - loss: 0.2532 - accuracy: 0.9272 - val_loss: 38.0439 - val_accuracy: 0.8741\n",
            "Epoch 15/15\n",
            "469/469 [==============================] - 14s 30ms/step - loss: 0.2465 - accuracy: 0.9283 - val_loss: 36.3004 - val_accuracy: 0.8800\n"
          ]
        },
        {
          "output_type": "execute_result",
          "data": {
            "text/plain": [
              "<keras.src.callbacks.History at 0x79231714ac50>"
            ]
          },
          "metadata": {},
          "execution_count": 24
        }
      ]
    },
    {
      "cell_type": "markdown",
      "metadata": {
        "id": "wscDSydsGWvq"
      },
      "source": [
        "**Evaluating the Network model performance**\n",
        "\n",
        "Once the model has been trained, we can evaluate its performance on a test set by using `model.evaluate` method. The `evaluate` method task as input a validation set and returns a tuple which includes the loss score and an accuracy score. The code below illustrates how to use the evaluate method\n",
        "\n",
        "```python\n",
        "(loss_score, accuracy_score) = model.evaluate(X_test,y_test,verbose=0)\n",
        "```\n",
        "\n",
        "**Task 2.4:** Evaluate the model you trained in task 2.3 and report its accuracy and loss.\n"
      ]
    },
    {
      "cell_type": "code",
      "metadata": {
        "id": "-_hMj5oVHavx",
        "colab": {
          "base_uri": "https://localhost:8080/"
        },
        "outputId": "b461f5e9-27ff-48b6-caed-56e845d4b88c"
      },
      "source": [
        "# Use this cell to implement task 2.4\n",
        "(loss_score, accuracy_score) = model.evaluate(X_test,y_test,verbose=0)\n",
        "print(\"Loss score: \",loss_score)\n",
        "print(\"Accuracy score: \",accuracy_score)"
      ],
      "execution_count": null,
      "outputs": [
        {
          "output_type": "stream",
          "name": "stdout",
          "text": [
            "Loss score:  36.300411224365234\n",
            "Accuracy score: 0.8799999952316284\n"
          ]
        }
      ]
    },
    {
      "cell_type": "markdown",
      "metadata": {
        "id": "MLlxlepHHeek"
      },
      "source": [
        "**Apply the trained model**\n",
        "\n",
        "Once the model is trained, and the evaluation shows an acceptable performance, we can apply the model to make prediction on new unseen data using the `model.predict` method. The `model.predict(X_test)` returns a ndarry of shape (obs, 10) which represents a probability vector over categories. To make a concrete class assignment we can return the class with the hieghest predicted probability. We can identify the entry with the highest probability for each vector by using the `np.argmax` method accross each row (i.e. accross axis 1). The code above illustrates how to do that.\n",
        "\n",
        "```python\n",
        "y_predict = np.argmax(model.predict(X_test),axis=1)\n",
        "```\n",
        "\n",
        "**Task 2.5** Apply the model you trained in task 2.4 on the test set and report its performance. Moreover, identify the first three instances the model misclassifies and display their image; indicating in the title the predicted value.\n"
      ]
    },
    {
      "cell_type": "code",
      "metadata": {
        "id": "P3kDTyA2J9w1",
        "colab": {
          "base_uri": "https://localhost:8080/",
          "height": 280
        },
        "outputId": "4c5a2cdd-15f0-44f4-f147-841b3828af0c"
      },
      "source": [
        "# Use this cell to implement task 2.5\n",
        "\n",
        "y_predict = np.argmax(model.predict(X_test),axis=1)\n",
        "y_true = np.argmax(y_test, axis=1)\n",
        "misclassified_indices = np.where(y_predict != y_true)[0]\n",
        "first_three_misclassified = misclassified_indices[:3]\n",
        "\n",
        "for i, j in enumerate(first_three_misclassified):\n",
        "    plt.subplot(1, 3, i+1)\n",
        "    plt.imshow(X_test[j], cmap='gray')\n",
        "    plt.title(f'Predicted: {y_predict[j]}, True: {y_true[j]}')\n",
        "    plt.axis('off')\n",
        "\n",
        "plt.show()"
      ],
      "execution_count": null,
      "outputs": [
        {
          "output_type": "stream",
          "name": "stdout",
          "text": [
            " 34/313 [==>...........................] - ETA: 0s"
          ]
        },
        {
          "output_type": "stream",
          "name": "stderr",
          "text": [
            "/usr/local/lib/python3.10/dist-packages/tensorflow/python/data/ops/structured_function.py:258: UserWarning: Even though the `tf.config.experimental_run_functions_eagerly` option is set, this option does not apply to tf.data functions. To force eager execution of tf.data functions, please use `tf.data.experimental.enable_debug_mode()`.\n",
            "  warnings.warn(\n"
          ]
        },
        {
          "output_type": "stream",
          "name": "stdout",
          "text": [
            "313/313 [==============================] - 1s 3ms/step\n"
          ]
        },
        {
          "output_type": "display_data",
          "data": {
            "text/plain": [
              "<Figure size 640x480 with 3 Axes>"
            ],
            "image/png": "[encoded data removed]"
          },
          "metadata": {}
        }
      ]
    },
    {
      "cell_type": "markdown",
      "metadata": {
        "id": "lwVSJlyQKBN-"
      },
      "source": [
        "## Exercise 3\n",
        "In the first to exercises, you reproduced a network architecture provided to you. In this exercise you are expected to create your own architecture to outperform the model from exercise 2. Repeat all the steps including, defining the network architecture; compile your model, train your model and evaluate your model. You are a allowed to use the `Flatten` layer, and as many `Dense` layers as you like (optionally, we might consider using a `Dropout` layer - which we did not discuss yet). Some things you can try to improve your architecture are\n",
        "* Introduce mode Dense layers.\n",
        "* Change the number of nodes in each layer.\n",
        "* Introduce one or more Dropout layers [see an example tutorial](https://machinelearningmastery.com/how-to-reduce-overfitting-with-dropout-regularization-in-keras/)\n"
      ]
    },
    {
      "cell_type": "code",
      "metadata": {
        "id": "7TlzRjKWLwOQ"
      },
      "source": [
        "# Use the cell below to implement Exercise 3. Add more cells as need\n",
        "import tensorflow.keras\n",
        "from tensorflow.keras.layers import Dense, Dropout, Flatten\n",
        "from tensorflow.keras.datasets import mnist\n",
        "from tensorflow.keras import backend\n",
        "import tensorflow.keras\n",
        "from tensorflow.keras.models import Sequential\n",
        "import time\n",
        "%matplotlib inline\n",
        "import matplotlib.pyplot as plt\n",
        "import numpy as np\n",
        "import pandas as pd\n",
        "\n",
        "#Custom Neural Network\n",
        "def myNeuralNetwork():\n",
        "  start = time.time()\n",
        "  (X_train, y_train), (X_test, y_test) = mnist.load_data()\n",
        "  # Get the shape of the ndarray\n",
        "  (Nobs_train, n_rows, n_cols) = X_train.shape\n",
        "\n",
        "  # Reshpep array to (obs,row,cols,color); convert to float and normalize\n",
        "  X_train = X_train.reshape(Nobs_train,n_rows,n_cols,1).astype('float32')/255\n",
        "  X_train = X_train.astype('float32') / 255\n",
        "  X_test = X_test.astype('float32') / 255\n",
        "\n",
        "# Convert labels to one-hot encoding\n",
        "  y_train = tensorflow.keras.utils.to_categorical(y_train)\n",
        "  y_test = tensorflow.keras.utils.to_categorical(y_test)\n",
        "\n",
        "\n",
        "  model = Sequential()\n",
        "  model.add(Flatten()) # add a layer to convert the 2D image to a 1D vector\n",
        "  model.add(Dense(256,activation='relu'))\n",
        "  model.add(Dropout(0.5))\n",
        "  model.add(Dense(128, activation='relu'))\n",
        "  model.add(Dropout(0.5))\n",
        "  model.add(Dense(10, activation='softmax'))\n",
        "\n",
        "\n",
        "  model.compile(loss='categorical_crossentropy',\n",
        "              optimizer='adam',\n",
        "              metrics=['accuracy'])\n",
        "\n",
        " # Batch size: refers to the size of data we use in a single pass;\n",
        "  batch_size = 128\n",
        "\n",
        "  # Epochs, the number of times to iterate over the dataset\n",
        "  epochs = 15\n",
        "  print(X_train.shape)\n",
        "  print(X_test.shape)\n",
        "  print(y_train.shape)\n",
        "  print(y_test.shape)\n",
        "\n",
        "# You can check the shape with:\n",
        "# If the shapes are correct, you can then fit the model:\n",
        "  model.fit(X_train, y_train, batch_size=batch_size, epochs=epochs, validation_data=(X_test, y_test))\n",
        "\n",
        "  (loss_score, accuracy_score) = model.evaluate(X_test,y_test,verbose=0)\n",
        "  print(\"Loss score: \",loss_score)\n",
        "  print(\"Accuracy score: \",accuracy_score)\n",
        "  end = time.time()\n",
        "  total_time_elapsed = end - start\n",
        "  print(\"Total time for myNeuralNetwork function: \",total_time_elapsed)\n",
        "\n",
        "def originalNeuralNetwork():\n",
        "  start = time.time()\n",
        "  (X_train, y_train), (X_test, y_test) = mnist.load_data()\n",
        "  # Get the shape of the ndarray\n",
        "  (Nobs_train, n_rows, n_cols) = X_train.shape\n",
        "\n",
        "  # Reshpep array to (obs,row,cols,color); convert to float and normalize\n",
        "  X_train = X_train.reshape(Nobs_train,n_rows,n_cols,1).astype('float32')/255\n",
        "  X_train = X_train.astype('float32') / 255\n",
        "  X_test = X_test.astype('float32') / 255\n",
        "\n",
        "# Convert labels to one-hot encoding\n",
        "  y_train = tensorflow.keras.utils.to_categorical(y_train)\n",
        "  y_test = tensorflow.keras.utils.to_categorical(y_test)\n",
        "\n",
        "\n",
        "  model = Sequential()\n",
        "  model.add(Flatten()) # add a layer to convert the 2D image to a 1D vector\n",
        "  model.add(Dense(256,activation='relu'))\n",
        "\n",
        "  model.add(Dense(10, activation='softmax'))\n",
        "\n",
        "\n",
        "  model.compile(loss='categorical_crossentropy',\n",
        "              optimizer='adam',\n",
        "              metrics=['accuracy'])\n",
        "\n",
        " # Batch size: refers to the size of data we use in a single pass;\n",
        "  batch_size = 128\n",
        "\n",
        "  # Epochs, the number of times to iterate over the dataset\n",
        "  epochs = 15\n",
        "  print(X_train.shape)\n",
        "  print(X_test.shape)\n",
        "  print(y_train.shape)\n",
        "  print(y_test.shape)\n",
        "\n",
        "# You can check the shape with:\n",
        "# If the shapes are correct, you can then fit the model:\n",
        "  model.fit(X_train, y_train, batch_size=batch_size, epochs=epochs, validation_data=(X_test, y_test))\n",
        "\n",
        "  (loss_score, accuracy_score) = model.evaluate(X_test,y_test,verbose=0)\n",
        "  print(\"Loss score: \",loss_score)\n",
        "  print(\"Accuracy score: \",accuracy_score)\n",
        "  end = time.time()\n",
        "  total_time_elapsed = end - start\n",
        "  print(\"Total time for originalNeuralNetwork function: \",total_time_elapsed)\n"
      ],
      "execution_count": 1,
      "outputs": []
    },
    {
      "cell_type": "markdown",
      "metadata": {
        "id": "RQacnVuoMA2E"
      },
      "source": [
        "## Compare the models  "
      ]
    },
    {
      "cell_type": "code",
      "metadata": {
        "id": "RKLn6IHSLvyx",
        "colab": {
          "base_uri": "https://localhost:8080/"
        },
        "outputId": "90feeb38-8c45-4768-de14-6dfad1c63157"
      },
      "source": [
        "# Use this cell to report the performance of your network, and compare it to the network in exercise 2.\n",
        "myNeuralNetwork()\n",
        "originalNeuralNetwork()\n"
      ],
      "execution_count": 2,
      "outputs": [
        {
          "output_type": "stream",
          "name": "stdout",
          "text": [
            "Downloading data from https://storage.googleapis.com/tensorflow/tf-keras-datasets/mnist.npz\n",
            "11490434/11490434 [==============================] - 0s 0us/step\n",
            "(60000, 28, 28, 1)\n",
            "(10000, 28, 28)\n",
            "(60000, 10)\n",
            "(10000, 10)\n",
            "Epoch 1/15\n",
            "469/469 [==============================] - 9s 14ms/step - loss: 1.3040 - accuracy: 0.5678 - val_loss: 36.6542 - val_accuracy: 0.7825\n",
            "Epoch 2/15\n",
            "469/469 [==============================] - 6s 13ms/step - loss: 0.6203 - accuracy: 0.8083 - val_loss: 46.2322 - val_accuracy: 0.8090\n",
            "Epoch 3/15\n",
            "469/469 [==============================] - 4s 9ms/step - loss: 0.4821 - accuracy: 0.8553 - val_loss: 53.3775 - val_accuracy: 0.8055\n",
            "Epoch 4/15\n",
            "469/469 [==============================] - 4s 9ms/step - loss: 0.4182 - accuracy: 0.8774 - val_loss: 44.8600 - val_accuracy: 0.8464\n",
            "Epoch 5/15\n",
            "469/469 [==============================] - 5s 11ms/step - loss: 0.3731 - accuracy: 0.8901 - val_loss: 42.9573 - val_accuracy: 0.8621\n",
            "Epoch 6/15\n",
            "469/469 [==============================] - 5s 10ms/step - loss: 0.3414 - accuracy: 0.9010 - val_loss: 40.5887 - val_accuracy: 0.8749\n",
            "Epoch 7/15\n",
            "469/469 [==============================] - 5s 10ms/step - loss: 0.3148 - accuracy: 0.9085 - val_loss: 35.7906 - val_accuracy: 0.8916\n",
            "Epoch 8/15\n",
            "469/469 [==============================] - 5s 10ms/step - loss: 0.2921 - accuracy: 0.9154 - val_loss: 34.7427 - val_accuracy: 0.8981\n",
            "Epoch 9/15\n",
            "469/469 [==============================] - 5s 11ms/step - loss: 0.2733 - accuracy: 0.9214 - val_loss: 30.2684 - val_accuracy: 0.9119\n",
            "Epoch 10/15\n",
            "469/469 [==============================] - 6s 12ms/step - loss: 0.2596 - accuracy: 0.9240 - val_loss: 28.0347 - val_accuracy: 0.9203\n",
            "Epoch 11/15\n",
            "469/469 [==============================] - 5s 10ms/step - loss: 0.2437 - accuracy: 0.9299 - val_loss: 26.7609 - val_accuracy: 0.9259\n",
            "Epoch 12/15\n",
            "469/469 [==============================] - 4s 9ms/step - loss: 0.2300 - accuracy: 0.9341 - val_loss: 24.8945 - val_accuracy: 0.9307\n",
            "Epoch 13/15\n",
            "469/469 [==============================] - 5s 11ms/step - loss: 0.2209 - accuracy: 0.9364 - val_loss: 24.9292 - val_accuracy: 0.9318\n",
            "Epoch 14/15\n",
            "469/469 [==============================] - 4s 10ms/step - loss: 0.2087 - accuracy: 0.9394 - val_loss: 22.0429 - val_accuracy: 0.9389\n",
            "Epoch 15/15\n",
            "469/469 [==============================] - 5s 11ms/step - loss: 0.2023 - accuracy: 0.9419 - val_loss: 22.2869 - val_accuracy: 0.9402\n",
            "Loss score:  22.28687286376953\n",
            "Accuracy score:  0.9401999711990356\n",
            "Total time for myNeuralNetwork function:  87.9670295715332\n",
            "(60000, 28, 28, 1)\n",
            "(10000, 28, 28)\n",
            "(60000, 10)\n",
            "(10000, 10)\n",
            "Epoch 1/15\n",
            "469/469 [==============================] - 5s 10ms/step - loss: 1.5619 - accuracy: 0.6429 - val_loss: 31.8107 - val_accuracy: 0.7350\n",
            "Epoch 2/15\n",
            "469/469 [==============================] - 3s 7ms/step - loss: 0.6608 - accuracy: 0.8415 - val_loss: 46.2714 - val_accuracy: 0.7709\n",
            "Epoch 3/15\n",
            "469/469 [==============================] - 4s 8ms/step - loss: 0.4650 - accuracy: 0.8785 - val_loss: 54.5341 - val_accuracy: 0.7731\n",
            "Epoch 4/15\n",
            "469/469 [==============================] - 4s 9ms/step - loss: 0.3908 - accuracy: 0.8935 - val_loss: 53.6678 - val_accuracy: 0.7914\n",
            "Epoch 5/15\n",
            "469/469 [==============================] - 4s 9ms/step - loss: 0.3530 - accuracy: 0.9016 - val_loss: 51.7551 - val_accuracy: 0.8078\n",
            "Epoch 6/15\n",
            "469/469 [==============================] - 4s 8ms/step - loss: 0.3294 - accuracy: 0.9065 - val_loss: 50.0908 - val_accuracy: 0.8219\n",
            "Epoch 7/15\n",
            "469/469 [==============================] - 9s 19ms/step - loss: 0.3135 - accuracy: 0.9105 - val_loss: 50.2980 - val_accuracy: 0.8239\n",
            "Epoch 8/15\n",
            "469/469 [==============================] - 5s 10ms/step - loss: 0.3005 - accuracy: 0.9139 - val_loss: 47.7634 - val_accuracy: 0.8343\n",
            "Epoch 9/15\n",
            "469/469 [==============================] - 3s 7ms/step - loss: 0.2902 - accuracy: 0.9170 - val_loss: 46.4497 - val_accuracy: 0.8415\n",
            "Epoch 10/15\n",
            "469/469 [==============================] - 4s 9ms/step - loss: 0.2811 - accuracy: 0.9194 - val_loss: 45.5077 - val_accuracy: 0.8470\n",
            "Epoch 11/15\n",
            "469/469 [==============================] - 4s 7ms/step - loss: 0.2730 - accuracy: 0.9210 - val_loss: 42.7819 - val_accuracy: 0.8554\n",
            "Epoch 12/15\n",
            "469/469 [==============================] - 3s 7ms/step - loss: 0.2646 - accuracy: 0.9238 - val_loss: 40.7715 - val_accuracy: 0.8633\n",
            "Epoch 13/15\n",
            "469/469 [==============================] - 4s 8ms/step - loss: 0.2570 - accuracy: 0.9259 - val_loss: 39.8247 - val_accuracy: 0.8669\n",
            "Epoch 14/15\n",
            "469/469 [==============================] - 4s 9ms/step - loss: 0.2493 - accuracy: 0.9277 - val_loss: 37.1034 - val_accuracy: 0.8755\n",
            "Epoch 15/15\n",
            "469/469 [==============================] - 3s 7ms/step - loss: 0.2420 - accuracy: 0.9304 - val_loss: 35.5987 - val_accuracy: 0.8818\n",
            "Loss score:  35.598670959472656\n",
            "Accuracy score:  0.8817999958992004\n",
            "Total time for originalNeuralNetwork function:  84.19458889961243\n"
          ]
        }
      ]
    },
    {
      "cell_type": "markdown",
      "source": [
        "My neural network function takes a little longer but the accuracy score is significantly greater than the original neural network."
      ],
      "metadata": {
        "id": "xqjwD6J8zp-z"
      }
    },
    {
      "cell_type": "markdown",
      "metadata": {
        "id": "80gXdanCgZ2v"
      },
      "source": [
        "Copyright Statement: Copyright © 2020 Christoforou. The materials provided by the instructor of this course, including this notebook, are for the use of the students enrolled in the course. Materials are presented in an educational context for personal use and study and should not be shared, distributed, disseminated or sold in print — or digitally — outside the course without permission. You may not, nor may you knowingly allow others to reproduce or distribute lecture notes, course materials as well as any of their derivatives without the instructor's express written consent."
      ]
    },
    {
      "cell_type": "code",
      "metadata": {
        "id": "9k78G2GRgcnf"
      },
      "source": [],
      "execution_count": null,
      "outputs": []
    }
  ]
}